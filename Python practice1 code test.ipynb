{
 "cells": [
  {
   "cell_type": "code",
   "execution_count": null,
   "metadata": {},
   "outputs": [],
   "source": [
    "#test data and answers\n",
    "\n",
    "q5ans = 5050\n",
    "q6 = [12,4,8,12,33]\n",
    "q6ans = [144,16,64,144,1089]\n",
    "q7 = [13,12,45,67,7456,12,90]\n",
    "q7ans = [\"Yes\",\"No\",\"Yes\",\"Yes\",\"No\",\"No\",\"No\"]\n",
    "q8 = [100,12,30,9000000,987,123,44]\n",
    "q8ans = [112,13,33,10080000,1105,137,49]\n",
    "q10 = [\"12345\",\"43\",\"90873\",\"0304\",\"09876543221\",\"77773777\",\"3\"]\n",
    "q10ans = [3,2,5,2,8,5,1]\n",
    "q11 = [\"abcd\",\"fghj\",\"qawsedrftgyhujikolp\",\"oploik\",\"goodbye\"]\n",
    "q11ans = [\"abc\",\"fgh\",\"qaw\",\"opl\",\"goo\"]\n",
    "q12 = [\"abcdfgh\",\"torcho\",\"python\",\"Clanguage\",\"ilovedyou\"]\n",
    "q12ans = [\"abcdfh\",\"torch\",\"pytho\",\"Clangage\",\"iloveyou\"]\n",
    "q13 = [\"testa\",\"ttests\",\"test\",\"test\",\"testt\",\"98\",\"t\"]\n",
    "q13ans = [\"No\",\"No\",\"Yes\",\"Yes\",\"Good\",\"No\",\"Good\"]\n",
    "q14 = [[1,1,0,0],[0,1,1,3],[1,21,3,39],[0,-3,2,-1],[0,2,-1,5],[12,13,14,15],[99987,-11345,543,12345],[93669237,926451281,6193490,-975372]]\n",
    "q14ans = [\"y=1.0x\",\"y=2.0x+1.0\",\"y=9.0x+12.0\",\"y=1.0x-3.0\",\"y=-3.0x+2.0\",\"y=1.0x+1.0\",\"y=-0.23822452837778046x+12474.355918909136\",\"y=10.602100408470934x-66639374.85886073\"]\n",
    "q15_1 = [\"aaaaa\",\"hihihihi\",\"kjnnmkj\",\"r\",\"iiikmmnhhjjiiinbfnfnfiiii\"]\n",
    "q15_2 = [\"a\",\"h\",\"k\",\"o\",\"i\"]\n",
    "q15ans = [5,4,2,0,10]"
   ]
  },
  {
   "cell_type": "markdown",
   "metadata": {},
   "source": [
    "## Q6のテスト"
   ]
  },
  {
   "cell_type": "code",
   "execution_count": null,
   "metadata": {},
   "outputs": [],
   "source": [
    "#コードのインプット\n",
    "def Q6(n):\n",
    "    #ここに考えたコードをコピペして下さい。\n",
    "    #数値をreturnして下さい。\n",
    "    return "
   ]
  },
  {
   "cell_type": "code",
   "execution_count": null,
   "metadata": {},
   "outputs": [],
   "source": [
    "#コードテスト\n",
    "#このセルを実行し、出力が全て”OK”なら正解です。\n",
    "#１つでも”NG”なら不正解です。\n",
    "for i in range(0,5):\n",
    "    if((Q6(q6[i])) == q6ans[i]):\n",
    "        counter += 1\n",
    "        print(\"OK\")\n",
    "    else:\n",
    "        print(\"NG\")"
   ]
  },
  {
   "cell_type": "markdown",
   "metadata": {},
   "source": [
    "## Q7のテスト"
   ]
  },
  {
   "cell_type": "code",
   "execution_count": null,
   "metadata": {},
   "outputs": [],
   "source": [
    "def Q7(n):\n",
    "    #ここに考えたコードをコピペして下さい。\n",
    "    #YesかNoかをreturnして下さい。"
   ]
  },
  {
   "cell_type": "code",
   "execution_count": null,
   "metadata": {},
   "outputs": [],
   "source": [
    "#コードテスト\n",
    "#このセルを実行し、出力が全て”OK”なら正解です。\n",
    "#１つでも”NG”なら不正解です。\n",
    "for i in range(0,7):\n",
    "    if(Q7(q7[i]) == q7ans[i]):\n",
    "        print(\"OK\")\n",
    "    else:\n",
    "        print(\"NG\")"
   ]
  },
  {
   "cell_type": "markdown",
   "metadata": {},
   "source": [
    "## Q8のテスト"
   ]
  },
  {
   "cell_type": "code",
   "execution_count": null,
   "metadata": {
    "scrolled": true
   },
   "outputs": [],
   "source": [
    "def Q8(n):\n",
    "    #ここに考えたコードをコピペして下さい。\n",
    "    #数値をreturnして下さい。"
   ]
  },
  {
   "cell_type": "code",
   "execution_count": null,
   "metadata": {},
   "outputs": [],
   "source": [
    "#コードテスト\n",
    "#このセルを実行し、出力が全て”OK”なら正解です。\n",
    "#１つでも”NG”なら不正解です。\n",
    "for i in range(7):\n",
    "    if(Q8(q8[i]) == q8ans[i]):\n",
    "        print(\"OK\")\n",
    "    else:\n",
    "        print(\"NG\")"
   ]
  },
  {
   "cell_type": "markdown",
   "metadata": {},
   "source": [
    "## Q10のテスト"
   ]
  },
  {
   "cell_type": "code",
   "execution_count": null,
   "metadata": {},
   "outputs": [],
   "source": [
    "def Q10(n):\n",
    "    #ここに考えたコードをコピペして下さい。\n",
    "    #数値をreturnして下さい。"
   ]
  },
  {
   "cell_type": "code",
   "execution_count": null,
   "metadata": {},
   "outputs": [],
   "source": [
    "#コードテスト\n",
    "#このセルを実行し、出力が全て”OK”なら正解です。\n",
    "#１つでも”NG”なら不正解です。\n",
    "for i in range(0,6):\n",
    "    if(Q10(q10[i]) == q10ans[i]):\n",
    "        print(\"OK\")\n",
    "    else:\n",
    "        print(\"NG\")"
   ]
  },
  {
   "cell_type": "markdown",
   "metadata": {},
   "source": [
    "## Q11のテスト"
   ]
  },
  {
   "cell_type": "code",
   "execution_count": null,
   "metadata": {},
   "outputs": [],
   "source": [
    "def Q11(n):\n",
    "    #ここに考えたコードをコピペして下さい。\n",
    "    #文字列をreturnして下さい。"
   ]
  },
  {
   "cell_type": "code",
   "execution_count": null,
   "metadata": {},
   "outputs": [],
   "source": [
    "#コードテスト\n",
    "#このセルを実行し、出力が全て”OK”なら正解です。\n",
    "#１つでも”NG”なら不正解です。\n",
    "for i in range(5):\n",
    "    s = q11[i]\n",
    "    if(Q11(s) == q11ans[i]):\n",
    "        print(\"OK\")\n",
    "    else:\n",
    "        print(\"NG\")"
   ]
  },
  {
   "cell_type": "markdown",
   "metadata": {},
   "source": [
    "## Q12のテスト"
   ]
  },
  {
   "cell_type": "code",
   "execution_count": null,
   "metadata": {},
   "outputs": [],
   "source": [
    "def Q12(n):\n",
    "    #ここに考えたコードをコピペして下さい。\n",
    "    #文字列をreturnして下さい。"
   ]
  },
  {
   "cell_type": "code",
   "execution_count": null,
   "metadata": {},
   "outputs": [],
   "source": [
    "#コードテスト\n",
    "#このセルを実行し、出力が全て”OK”なら正解です。\n",
    "#１つでも”NG”なら不正解です。\n",
    "for i in range(0,5):\n",
    "    if(Q12(q12[i]) == q12ans[i]):\n",
    "        print(\"OK\")\n",
    "    else:\n",
    "        print(\"NG\")"
   ]
  },
  {
   "cell_type": "markdown",
   "metadata": {},
   "source": [
    "## Q13のテスト"
   ]
  },
  {
   "cell_type": "code",
   "execution_count": null,
   "metadata": {},
   "outputs": [],
   "source": [
    "def Q13(n):\n",
    "    #ここに考えたコードをコピペして下さい。\n",
    "    #YesかNoかGoodをreturnして下さい。"
   ]
  },
  {
   "cell_type": "code",
   "execution_count": null,
   "metadata": {},
   "outputs": [],
   "source": [
    "#コードテスト\n",
    "#このセルを実行し、出力が全て”OK”なら正解です。\n",
    "#１つでも”NG”なら不正解です。\n",
    "for i in range(0,7):\n",
    "    if(Q13(q13[i]) == q13ans[i]):\n",
    "        print(\"OK\")\n",
    "    else:\n",
    "        print(\"NG\")"
   ]
  },
  {
   "cell_type": "markdown",
   "metadata": {},
   "source": [
    "## Q14のテスト"
   ]
  },
  {
   "cell_type": "code",
   "execution_count": null,
   "metadata": {},
   "outputs": [],
   "source": [
    "def Q14(x1,y1,x2,y2):\n",
    "    #your code here\n",
    "    #文字列をreturnして下さい。"
   ]
  },
  {
   "cell_type": "code",
   "execution_count": null,
   "metadata": {},
   "outputs": [],
   "source": [
    "#コードテスト\n",
    "#このセルを実行し、出力が全て”OK”なら正解です。\n",
    "#１つでも”NG”なら不正解です。\n",
    "for i in range(0,len(q14)-1):\n",
    "    x1 = q14[i][0]\n",
    "    y1 = q14[i][1]\n",
    "    x2 = q14[i][2]\n",
    "    y2 = q14[i][3]\n",
    "    if(Q14(x1,y1,x2,y2) == q14ans[i]):\n",
    "        print(\"OK\")\n",
    "    else:\n",
    "        print(\"NG\")"
   ]
  },
  {
   "cell_type": "markdown",
   "metadata": {},
   "source": [
    "## Q15のテスト"
   ]
  },
  {
   "cell_type": "code",
   "execution_count": null,
   "metadata": {},
   "outputs": [],
   "source": [
    "for i in range(0,5):\n",
    "    if(Q15(q15_1[i],q15_2[i]) == q15ans[i]):\n",
    "        print(\"OK\")\n",
    "    else:\n",
    "        print(\"NG\")"
   ]
  },
  {
   "cell_type": "code",
   "execution_count": null,
   "metadata": {},
   "outputs": [],
   "source": [
    "#コードテスト\n",
    "#このセルを実行し、出力が全て”OK”なら正解です。\n",
    "#１つでも”NG”なら不正解です。\n",
    "def Q15(s,a):\n",
    "    #your code here\n",
    "    #数値をreturnして下さい。"
   ]
  }
 ],
 "metadata": {
  "kernelspec": {
   "display_name": "Python 3",
   "language": "python",
   "name": "python3"
  },
  "language_info": {
   "codemirror_mode": {
    "name": "ipython",
    "version": 3
   },
   "file_extension": ".py",
   "mimetype": "text/x-python",
   "name": "python",
   "nbconvert_exporter": "python",
   "pygments_lexer": "ipython3",
   "version": "3.7.4"
  }
 },
 "nbformat": 4,
 "nbformat_minor": 2
}
