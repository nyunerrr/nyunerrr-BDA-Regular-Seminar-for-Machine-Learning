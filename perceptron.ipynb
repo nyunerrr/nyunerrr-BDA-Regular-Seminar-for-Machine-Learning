{
 "cells": [
  {
   "cell_type": "markdown",
   "metadata": {},
   "source": [
    "## パーセプトロンの実装\n"
   ]
  },
  {
   "cell_type": "markdown",
   "metadata": {},
   "source": [
    "#### ANDゲート\n",
    "\n",
    "まず、ANDゲートを実装してみます。\n",
    "一度復習しておきましょう。ANDゲートの真理値表です。\n",
    "\n",
    "|$$x_1$$|$$x_2$$|$$y$$|\n",
    "|:-|:-|:-|\n",
    "|0|0|0|\n",
    "|0|1|0|\n",
    "|1|0|0|\n",
    "|1|1|1|"
   ]
  },
  {
   "cell_type": "code",
   "execution_count": 28,
   "metadata": {},
   "outputs": [],
   "source": [
    "def AND(x1,x2):\n",
    "    w1 = 100\n",
    "    w2 = 100\n",
    "    theta = 200\n",
    "    tmp = x1 * w1 + x2 * w2\n",
    "    if(tmp < theta):\n",
    "        return 0\n",
    "    else:\n",
    "        return 1"
   ]
  },
  {
   "cell_type": "code",
   "execution_count": 30,
   "metadata": {},
   "outputs": [
    {
     "name": "stdout",
     "output_type": "stream",
     "text": [
      "0\n",
      "0\n",
      "0\n",
      "1\n"
     ]
    }
   ],
   "source": [
    "print(AND(0,0))\n",
    "print(AND(0,1))\n",
    "print(AND(1,0))\n",
    "print(AND(1,1))"
   ]
  },
  {
   "cell_type": "markdown",
   "metadata": {},
   "source": [
    "ANDゲートが実装できていることが確認できます。"
   ]
  },
  {
   "cell_type": "markdown",
   "metadata": {},
   "source": [
    "#### ANDゲート\n",
    "\n",
    "次に、ORゲートを実装してみます。\n",
    "これも復習しておきましょう。ORゲートの真理値表です。\n",
    "\n",
    "|$$x_1$$|$$x_2$$|$$y$$|\n",
    "|:-|:-|:-|\n",
    "|0|0|0|\n",
    "|0|1|1|\n",
    "|1|0|1|\n",
    "|1|1|1|"
   ]
  },
  {
   "cell_type": "code",
   "execution_count": 31,
   "metadata": {},
   "outputs": [],
   "source": [
    "def OR(x1,x2):\n",
    "    w1 = 100\n",
    "    w2 = 100\n",
    "    theta = 100\n",
    "    tmp = x1 * w1 + x2 * w2\n",
    "    if(tmp < theta):\n",
    "        return 0\n",
    "    else:\n",
    "        return 1"
   ]
  },
  {
   "cell_type": "code",
   "execution_count": 32,
   "metadata": {},
   "outputs": [
    {
     "name": "stdout",
     "output_type": "stream",
     "text": [
      "0\n",
      "1\n",
      "1\n",
      "1\n"
     ]
    }
   ],
   "source": [
    "print(OR(0,0))\n",
    "print(OR(0,1))\n",
    "print(OR(1,0))\n",
    "print(OR(1,1))"
   ]
  },
  {
   "cell_type": "markdown",
   "metadata": {},
   "source": [
    "これも大丈夫そうです。"
   ]
  },
  {
   "cell_type": "markdown",
   "metadata": {},
   "source": [
    "#### バイアスを使ったANDゲート\n",
    "\n",
    "先程実装したANDゲートを、バイアスを含めた形で実装してみます。\n",
    "\n",
    "先程の閾値をバイアスに書き換えた式を下に示します・\n",
    "$$\n",
    "    \\begin{align}\n",
    "         if \\quad b+w_1x_1 + w_2x_2 \\leqq 0 \\\\\n",
    "         return\\quad0 \\\\\n",
    "         if \\quad b+w_1x_1 + w_2x_2 > 0 \\\\\n",
    "         return\\quad1 \\\\\n",
    "    \\end{align}\n",
    "$$\n"
   ]
  },
  {
   "cell_type": "code",
   "execution_count": 40,
   "metadata": {},
   "outputs": [],
   "source": [
    "import numpy as np\n",
    "\n",
    "def bAND(x1,x2):\n",
    "    x = np.array([x1,x2])\n",
    "    w = np.array([100,100])\n",
    "    b = -199\n",
    "    tmp = np.sum(w*x) + b\n",
    "    if(tmp <= 0):\n",
    "        return 0\n",
    "    else:\n",
    "        return 1"
   ]
  },
  {
   "cell_type": "code",
   "execution_count": 41,
   "metadata": {},
   "outputs": [
    {
     "name": "stdout",
     "output_type": "stream",
     "text": [
      "0\n",
      "0\n",
      "0\n",
      "1\n"
     ]
    }
   ],
   "source": [
    "print(bAND(0,0))\n",
    "print(bAND(0,1))\n",
    "print(bAND(1,0))\n",
    "print(bAND(1,1))"
   ]
  },
  {
   "cell_type": "markdown",
   "metadata": {},
   "source": [
    "バイアスを直感的な数式で表すとこのようになります。\n",
    "\n",
    "$$\n",
    "    \\begin{align}\n",
    "         -199 + 0 + 0 = -199 \\quad\\leqq 0 \\\\\n",
    "         -199 + 0 + 100 = -99 \\quad\\leqq 0 \\\\\n",
    "         -199 + 100 + 0 = -99 \\quad\\leqq 0 \\\\\n",
    "         -199 + 100 + 100 = 1 \\quad>0 \\\\\n",
    "    \\end{align}\n",
    "$$\n",
    "\n",
    "ANDゲートは真になりにくい演算子です。\n",
    "バイアスが閾値を超えることを防いでいることが分かります。"
   ]
  },
  {
   "cell_type": "markdown",
   "metadata": {},
   "source": [
    "#### バイアスを使ったORゲート\n",
    "\n",
    "ORゲートをバイアスを含めた形で実装してみます。"
   ]
  },
  {
   "cell_type": "code",
   "execution_count": 48,
   "metadata": {},
   "outputs": [],
   "source": [
    "import numpy as np\n",
    "\n",
    "def bOR(x1,x2):\n",
    "    x = np.array([x1,x2])\n",
    "    w = np.array([100,100])\n",
    "    b = -99\n",
    "    tmp = np.sum(w*x) + b\n",
    "    if(tmp <= 0):\n",
    "        return 0\n",
    "    else:\n",
    "        return 1"
   ]
  },
  {
   "cell_type": "code",
   "execution_count": 49,
   "metadata": {},
   "outputs": [
    {
     "name": "stdout",
     "output_type": "stream",
     "text": [
      "0\n",
      "1\n",
      "1\n",
      "1\n"
     ]
    }
   ],
   "source": [
    "print(bOR(0,0))\n",
    "print(bOR(0,1))\n",
    "print(bOR(1,0))\n",
    "print(bOR(1,1))"
   ]
  },
  {
   "cell_type": "markdown",
   "metadata": {},
   "source": [
    "同様に式にすると\n",
    "\n",
    "$$\n",
    "    \\begin{align}\n",
    "         -99 + 0 + 0 = -99 \\quad\\leqq\\quad0 \\\\\n",
    "         -99 + 0 + 100 = 1 \\quad>\\quad  0 \\\\\n",
    "         -99 + 100 + 0 = 1\\quad>\\quad 0 \\\\\n",
    "         -99 + 100 + 100 = 101\\quad>\\quad 0 \\\\\n",
    "    \\end{align}\n",
    "$$\n"
   ]
  },
  {
   "cell_type": "markdown",
   "metadata": {},
   "source": [
    "#### バイアスを使ったNANDゲート\n",
    "\n",
    "NANDゲートをバイアスを含めた形で実装してみます。\n",
    "NANDの真理値表を確認します。\n",
    "\n",
    "|$$x_1$$|$$x_2$$|$$y$$|\n",
    "|:-|:-|:-|\n",
    "|0|0|1|\n",
    "|0|1|1|\n",
    "|1|0|1|\n",
    "|1|1|0|"
   ]
  },
  {
   "cell_type": "code",
   "execution_count": 63,
   "metadata": {},
   "outputs": [],
   "source": [
    "import numpy as np\n",
    "\n",
    "def NAND(x1,x2):\n",
    "    x = np.array([x1,x2])\n",
    "    w = np.array([-100,-100])\n",
    "    b = 200\n",
    "    tmp = np.sum(w*x) + b\n",
    "    if(tmp <= 0):\n",
    "        return 0\n",
    "    else:\n",
    "        return 1"
   ]
  },
  {
   "cell_type": "code",
   "execution_count": 64,
   "metadata": {},
   "outputs": [
    {
     "name": "stdout",
     "output_type": "stream",
     "text": [
      "1\n",
      "1\n",
      "1\n",
      "0\n"
     ]
    }
   ],
   "source": [
    "print(NAND(0,0))\n",
    "print(NAND(0,1))\n",
    "print(NAND(1,0))\n",
    "print(NAND(1,1))"
   ]
  },
  {
   "cell_type": "markdown",
   "metadata": {},
   "source": [
    "同様に式にすると\n",
    "\n",
    "$$\n",
    "    \\begin{align}\n",
    "         200 + 0 + 0 = 200 \\quad>\\quad0 \\\\\n",
    "         200 + 0  - 100 = 100 \\quad>\\quad  0 \\\\\n",
    "         200 - 100 + 0 = 100\\quad>\\quad 0 \\\\\n",
    "         200 - 100 - 100 = 0\\quad\\leqq\\quad 0 \\\\\n",
    "    \\end{align}\n",
    "$$\n"
   ]
  },
  {
   "cell_type": "markdown",
   "metadata": {},
   "source": [
    "#### XORゲート\n",
    "\n",
    "XORゲートをこれまでに作った関数を組み合わせて実装してみます。\n",
    "まずXORの真理値表を確認します。\n",
    "\n",
    "|$$x_1$$|$$x_2$$|$$y$$|\n",
    "|:-|:-|:-|\n",
    "|0|0|0|\n",
    "|0|1|1|\n",
    "|1|0|1|\n",
    "|1|1|0|\n",
    "\n",
    "排他的とは、ベン図に起こしたとき、2つの区画が交わらない場所のことを指します。\n",
    "pythonで図を書いてみます。"
   ]
  },
  {
   "cell_type": "code",
   "execution_count": null,
   "metadata": {},
   "outputs": [],
   "source": [
    "#matplotlib_venn をインストールしないと見れません。\n",
    "#見なくても差し支えないです。"
   ]
  },
  {
   "cell_type": "code",
   "execution_count": 62,
   "metadata": {
    "scrolled": true
   },
   "outputs": [
    {
     "data": {
      "image/png": "[encoded data removed]",
      "text/plain": [
       "<Figure size 432x288 with 1 Axes>"
      ]
     },
     "metadata": {},
     "output_type": "display_data"
    }
   ],
   "source": [
    "from matplotlib_venn import venn2\n",
    "from matplotlib import pyplot\n",
    "\n",
    "# 重なる部分の領域の割合を0にする   \n",
    "v = venn2(subsets=(3, 3, 1))\n",
    "\n",
    "# ベン図の色を変更する   \n",
    "v.get_patch_by_id('10').set_color('skyblue')\n",
    "v.get_patch_by_id('10').set_edgecolor('black')\n",
    "v.get_patch_by_id('11').set_color('white')\n",
    "v.get_patch_by_id('11').set_edgecolor('black')\n",
    "v.get_patch_by_id('01').set_color('skyblue')\n",
    "v.get_patch_by_id('01').set_edgecolor('black')\n",
    "\n",
    "# 背景色を変更する\n",
    "pyplot.gca().set_axis_on()\n",
    "pyplot.gca().set_facecolor('white')\n",
    "pyplot.show()\n",
    "\n",
    "#参考 https://www.monotalk.xyz/blog/Draw-a-Venn-diagram-with-Python-matplotlib-venn/"
   ]
  },
  {
   "cell_type": "code",
   "execution_count": 66,
   "metadata": {},
   "outputs": [],
   "source": [
    "def XOR(x1,x2):\n",
    "    s1 = NAND(x1,x2)\n",
    "    s2 = OR(x1,x2)\n",
    "    y = AND(s1,s2)\n",
    "    return y"
   ]
  },
  {
   "cell_type": "code",
   "execution_count": 69,
   "metadata": {},
   "outputs": [
    {
     "name": "stdout",
     "output_type": "stream",
     "text": [
      "0\n",
      "1\n",
      "1\n",
      "1\n"
     ]
    }
   ],
   "source": [
    "print(XOR(0,0))\n",
    "print(XOR(0,1))\n",
    "print(XOR(1,0))\n",
    "print(OR(1,1))"
   ]
  },
  {
   "cell_type": "markdown",
   "metadata": {},
   "source": [
    "#### 時間が余ったらする奴\n",
    "#### 創生学部に向いてるかシミュレータをパーセプトロンで作る\n",
    "\n",
    "多層パーセプトロンを使って実装します。\n",
    "まずコードを実行してみて下さい。"
   ]
  },
  {
   "cell_type": "code",
   "execution_count": 88,
   "metadata": {},
   "outputs": [
    {
     "name": "stdout",
     "output_type": "stream",
     "text": [
      "以下の質問にyes(y)かNo(n)で答えて下さい。\n",
      "\n",
      "Q1 純粋な学問よりも、その応用に興味がある y/n\n",
      "n\n",
      "Q2 物事の原理を知るよりも、その使い方に目を向けたい y/n\n",
      "n\n",
      "Q3 プログラミングが得意だ y/n\n",
      "n\n",
      "Q4 人と合わないほうが正直楽だ y/n\n",
      "y\n",
      "Q5 一人で考えるよりも、誰かと一緒に議論したほうが、よりよい結論を得られると思う y/n\n",
      "n\n",
      "Q6 人と議論することが好きだ y/n\n",
      "n\n",
      "Q7 人から個性的だと言われる　y/n\n",
      "y\n",
      "Q8 1つのものを極めるよりも、色々なものに触れてみたいと思う y/n\n",
      "y\n",
      "Q9 分野によらず、様々なことを学ぶのが好きだ y/n\n",
      "y\n",
      "-----processing----\n",
      "\n",
      "創生学部に向いています!\n"
     ]
    }
   ],
   "source": [
    "#BPL志向\n",
    "def q1_3(x,y,z):\n",
    "    x = np.array([x,y,z])\n",
    "    w = np.array([100,50,20])\n",
    "    b = -70\n",
    "    tmp = np.sum(w*x) + b\n",
    "    if(tmp <= 0):\n",
    "        return 0\n",
    "    else:\n",
    "        return 1\n",
    "\n",
    "#コミュ力\n",
    "def q4_6(x,y,z):\n",
    "    x = np.array([x,y,z])\n",
    "    w = np.array([-50,50,50])\n",
    "    b = 50\n",
    "    tmp = np.sum(w*x) + b\n",
    "    if(tmp <= 0):\n",
    "        return 0\n",
    "    else:\n",
    "        return 1\n",
    "\n",
    "#広い視点\n",
    "def q7_9(x,y,z):\n",
    "    x = np.array([x,y,z])\n",
    "    w = np.array([0,50,50])\n",
    "    b = 50\n",
    "    tmp = np.sum(w*x) + b\n",
    "    if(tmp <= 0):\n",
    "        return 0\n",
    "    else:\n",
    "        return 1\n",
    "\n",
    "#3値のORパーセプトロン\n",
    "def three_OR(x1,x2,x3):\n",
    "    x = np.array([x1,x2,x3])\n",
    "    w = np.array([100,100,100])\n",
    "    b = -99\n",
    "    tmp = np.sum(w*x) + b\n",
    "    if(tmp <= 0):\n",
    "        return 0\n",
    "    else:\n",
    "        return 1\n",
    "\n",
    "def to_input(a):\n",
    "    if(a == \"y\"):\n",
    "        return 1\n",
    "    elif(a == \"n\"):\n",
    "        return 0\n",
    "\n",
    "#入力\n",
    "print(\"以下の質問にyes(y)かNo(n)で答えて下さい。\\n\")\n",
    "print(\"Q1 純粋な学問よりも、その応用に興味がある y/n\") #100\n",
    "q1_ = input()\n",
    "q1 = to_input(q1_)\n",
    "print(\"Q2 物事の原理を知るよりも、その使い方に目を向けたい y/n\") #50\n",
    "q2_ = input()\n",
    "q2 = to_input(q2_)\n",
    "print(\"Q3 プログラミングが得意だ y/n\") #20\n",
    "q3_ = input()\n",
    "q3 = to_input(q3_)\n",
    "\n",
    "print(\"Q4 人と合わないほうが正直楽だ y/n\") #-50\n",
    "q4_ = input()\n",
    "q4 = to_input(q4_)\n",
    "print(\"Q5 一人で考えるよりも、誰かと一緒に議論したほうが、よりよい結論を得られると思う y/n\")#50\n",
    "q5_ = input()\n",
    "q5 = to_input(q5_)\n",
    "print(\"Q6 人と議論することが好きだ y/n\") #50\n",
    "q6_ = input()\n",
    "q6 = to_input(q6_)\n",
    "\n",
    "print(\"Q7 人から個性的だと言われる　y/n\") #0\n",
    "q7_ = input()\n",
    "q7 = to_input(q7_)\n",
    "print(\"Q8 1つのものを極めるよりも、色々なものに触れてみたいと思う y/n\")#50\n",
    "q8_ = input()\n",
    "q8 = to_input(q8_)\n",
    "print(\"Q9 分野によらず、様々なことを学ぶのが好きだ y/n\") #50\n",
    "q9_ = input()\n",
    "q9 = to_input(q9_)\n",
    "\n",
    "print(\"-----processing----\\n\")\n",
    "\n",
    "#統合\n",
    "sol = q1_3(q1,q2,q3)\n",
    "com = q4_6(q4,q5,q6)\n",
    "wid = q7_9(q7,q8,q9)\n",
    "result = three_OR(sol,com,wid)\n",
    "\n",
    "if(result == 1):\n",
    "    print(\"創生学部に向いています!\")\n",
    "else:\n",
    "    print(\"向いていないかも知れません。。。\")"
   ]
  },
  {
   "cell_type": "markdown",
   "metadata": {},
   "source": [
    "創生学部での学修において重要な要素を(独断と偏見で)「課題解決志向」、「コミュ力」、「多面的な知識を付ける意欲」と考え、(それこそ私のバイアス入りまくりで)重みを(テキトーに)つけます。<br>\n",
    "第1層目では、それぞれの能力がの有無を判定するパーセプトロン、<br>\n",
    "第2層目では、３つの能力のうち２つ以上があると判断される場合、１を出力しています。(だから3値のORを使います。)\n",
    "\n",
    "\n",
    "このように大きめで複雑な条件分岐もパーセプトロンで実装できます。"
   ]
  },
  {
   "cell_type": "markdown",
   "metadata": {},
   "source": []
  }
 ],
 "metadata": {
  "kernelspec": {
   "display_name": "Python 3",
   "language": "python",
   "name": "python3"
  },
  "language_info": {
   "codemirror_mode": {
    "name": "ipython",
    "version": 3
   },
   "file_extension": ".py",
   "mimetype": "text/x-python",
   "name": "python",
   "nbconvert_exporter": "python",
   "pygments_lexer": "ipython3",
   "version": "3.7.4"
  }
 },
 "nbformat": 4,
 "nbformat_minor": 2
}
